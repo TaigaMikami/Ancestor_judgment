{
 "cells": [
  {
   "cell_type": "code",
   "execution_count": 1,
   "metadata": {},
   "outputs": [
    {
     "name": "stderr",
     "output_type": "stream",
     "text": [
      "Using TensorFlow backend.\n"
     ]
    }
   ],
   "source": [
    "%matplotlib inline\n",
    "import keras\n",
    "from keras.datasets import mnist\n",
    "from keras.models import Sequential\n",
    "from keras.layers import Dense, Dropout, Flatten\n",
    "from keras.layers import Conv2D, MaxPooling2D\n",
    "from keras.optimizers import Adam\n",
    "from keras import backend as K\n",
    "import matplotlib.pyplot as plt\n",
    "import os.path"
   ]
  },
  {
   "cell_type": "code",
   "execution_count": 2,
   "metadata": {
    "collapsed": true
   },
   "outputs": [],
   "source": [
    "batch_size = 128\n",
    "nb_classes = 10\n",
    "nb_epoch = 20\n",
    "\n",
    "img_rows = 28\n",
    "img_cols = 28\n",
    "\n",
    "f_log = './log'\n",
    "f_model = './model'\n",
    "(X_train, y_train), (X_test, y_test) = mnist.load_data()"
   ]
  },
  {
   "cell_type": "code",
   "execution_count": 3,
   "metadata": {},
   "outputs": [],
   "source": [
    "X_train = X_train.reshape(X_train.shape[0], img_rows, img_cols,1)\n",
    "X_test  = X_test.reshape(X_test.shape[0], img_rows, img_cols,1)\n",
    "X_train = X_train.astype('float32')\n",
    "X_test  = X_test.astype('float32')\n",
    "X_train /= 255\n",
    "X_test /= 255\n",
    "\n",
    "input_shape = (img_rows, img_cols, 1)\n",
    "\n",
    "Y_train = keras.utils.np_utils.to_categorical(y_train, nb_classes)\n",
    "Y_test = keras.utils.np_utils.to_categorical(y_test, nb_classes)"
   ]
  },
  {
   "cell_type": "code",
   "execution_count": null,
   "metadata": {},
   "outputs": [],
   "source": [
    "import keras.callbacks\n",
    "import keras.backend.tensorflow_backend as KTF\n",
    "import tensorflow as tf\n",
    "old_session = KTF.get_session()"
   ]
  },
  {
   "cell_type": "code",
   "execution_count": null,
   "metadata": {},
   "outputs": [
    {
     "name": "stdout",
     "output_type": "stream",
     "text": [
      "_________________________________________________________________\n",
      "Layer (type)                 Output Shape              Param #   \n",
      "=================================================================\n",
      "conv2d_1 (Conv2D)            (None, 26, 26, 32)        320       \n",
      "_________________________________________________________________\n",
      "conv2d_2 (Conv2D)            (None, 24, 24, 64)        18496     \n",
      "_________________________________________________________________\n",
      "max_pooling2d_1 (MaxPooling2 (None, 12, 12, 64)        0         \n",
      "_________________________________________________________________\n",
      "dropout_1 (Dropout)          (None, 12, 12, 64)        0         \n",
      "_________________________________________________________________\n",
      "flatten_1 (Flatten)          (None, 9216)              0         \n",
      "_________________________________________________________________\n",
      "dense_1 (Dense)              (None, 128)               1179776   \n",
      "_________________________________________________________________\n",
      "dropout_2 (Dropout)          (None, 128)               0         \n",
      "_________________________________________________________________\n",
      "dense_2 (Dense)              (None, 10)                1290      \n",
      "=================================================================\n",
      "Total params: 1,199,882\n",
      "Trainable params: 1,199,882\n",
      "Non-trainable params: 0\n",
      "_________________________________________________________________\n",
      "_________________________________________________________________\n",
      "Layer (type)                 Output Shape              Param #   \n",
      "=================================================================\n",
      "conv2d_1 (Conv2D)            (None, 26, 26, 32)        320       \n",
      "_________________________________________________________________\n",
      "conv2d_2 (Conv2D)            (None, 24, 24, 64)        18496     \n",
      "_________________________________________________________________\n",
      "max_pooling2d_1 (MaxPooling2 (None, 12, 12, 64)        0         \n",
      "_________________________________________________________________\n",
      "dropout_1 (Dropout)          (None, 12, 12, 64)        0         \n",
      "_________________________________________________________________\n",
      "flatten_1 (Flatten)          (None, 9216)              0         \n",
      "_________________________________________________________________\n",
      "dense_1 (Dense)              (None, 128)               1179776   \n",
      "_________________________________________________________________\n",
      "dropout_2 (Dropout)          (None, 128)               0         \n",
      "_________________________________________________________________\n",
      "dense_2 (Dense)              (None, 10)                1290      \n",
      "=================================================================\n",
      "Total params: 1,199,882\n",
      "Trainable params: 1,199,882\n",
      "Non-trainable params: 0\n",
      "_________________________________________________________________\n",
      "Train on 60000 samples, validate on 10000 samples\n",
      "Epoch 1/20\n",
      "59904/60000 [============================>.] - ETA: 0s - loss: 0.2140 - acc: 0.9352Epoch 00000: val_loss improved from inf to 0.04641, saving model to ./model/cnn_model00-loss0.21-acc0.94-vloss0.05-vacc0.98.hdf5\n",
      "60000/60000 [==============================] - 314s - loss: 0.2139 - acc: 0.9352 - val_loss: 0.0464 - val_acc: 0.9844\n",
      "Epoch 2/20\n",
      "59904/60000 [============================>.] - ETA: 0s - loss: 0.0786 - acc: 0.9774Epoch 00001: val_loss improved from 0.04641 to 0.03769, saving model to ./model/cnn_model01-loss0.08-acc0.98-vloss0.04-vacc0.99.hdf5\n",
      "60000/60000 [==============================] - 303s - loss: 0.0785 - acc: 0.9774 - val_loss: 0.0377 - val_acc: 0.9877\n",
      "Epoch 3/20\n",
      "59904/60000 [============================>.] - ETA: 0s - loss: 0.0584 - acc: 0.9828Epoch 00002: val_loss improved from 0.03769 to 0.03261, saving model to ./model/cnn_model02-loss0.06-acc0.98-vloss0.03-vacc0.99.hdf5\n",
      "60000/60000 [==============================] - 296s - loss: 0.0583 - acc: 0.9828 - val_loss: 0.0326 - val_acc: 0.9895\n",
      "Epoch 4/20\n",
      "59904/60000 [============================>.] - ETA: 0s - loss: 0.0499 - acc: 0.9848Epoch 00003: val_loss did not improve\n",
      "60000/60000 [==============================] - 303s - loss: 0.0500 - acc: 0.9848 - val_loss: 0.0338 - val_acc: 0.9898\n",
      "Epoch 5/20\n",
      "59904/60000 [============================>.] - ETA: 0s - loss: 0.0406 - acc: 0.9870Epoch 00004: val_loss improved from 0.03261 to 0.02890, saving model to ./model/cnn_model04-loss0.04-acc0.99-vloss0.03-vacc0.99.hdf5\n",
      "60000/60000 [==============================] - 301s - loss: 0.0406 - acc: 0.9870 - val_loss: 0.0289 - val_acc: 0.9912\n",
      "Epoch 6/20\n",
      "59904/60000 [============================>.] - ETA: 0s - loss: 0.0361 - acc: 0.9889Epoch 00005: val_loss did not improve\n",
      "60000/60000 [==============================] - 309s - loss: 0.0361 - acc: 0.9889 - val_loss: 0.0326 - val_acc: 0.9896\n",
      "Epoch 7/20\n",
      "59904/60000 [============================>.] - ETA: 0s - loss: 0.0314 - acc: 0.9899Epoch 00006: val_loss improved from 0.02890 to 0.02862, saving model to ./model/cnn_model06-loss0.03-acc0.99-vloss0.03-vacc0.99.hdf5\n",
      "60000/60000 [==============================] - 289s - loss: 0.0314 - acc: 0.9899 - val_loss: 0.0286 - val_acc: 0.9911\n",
      "Epoch 8/20\n",
      "59904/60000 [============================>.] - ETA: 0s - loss: 0.0289 - acc: 0.9907Epoch 00007: val_loss did not improve\n",
      "60000/60000 [==============================] - 294s - loss: 0.0289 - acc: 0.9906 - val_loss: 0.0310 - val_acc: 0.9918\n",
      "Epoch 9/20\n",
      "59904/60000 [============================>.] - ETA: 0s - loss: 0.0272 - acc: 0.9909Epoch 00008: val_loss improved from 0.02862 to 0.02860, saving model to ./model/cnn_model08-loss0.03-acc0.99-vloss0.03-vacc0.99.hdf5\n",
      "60000/60000 [==============================] - 323s - loss: 0.0272 - acc: 0.9910 - val_loss: 0.0286 - val_acc: 0.9921\n",
      "Epoch 10/20\n",
      " 4224/60000 [=>............................] - ETA: 393s - loss: 0.0195 - acc: 0.9946"
     ]
    }
   ],
   "source": [
    "with tf.Graph().as_default():\n",
    "    session = tf.Session('')\n",
    "    KTF.set_session(session)\n",
    "\n",
    "    model = Sequential()\n",
    "    model.add(Conv2D(32, kernel_size=(3, 3),\n",
    "                     activation='relu',\n",
    "                     input_shape=input_shape))\n",
    "    model.add(Conv2D(64, (3, 3), activation='relu'))\n",
    "    model.add(MaxPooling2D(pool_size=(2, 2)))\n",
    "    model.add(Dropout(0.25))\n",
    "    model.add(Flatten())\n",
    "    model.add(Dense(128, activation='relu'))\n",
    "    model.add(Dropout(0.5))\n",
    "    model.add(Dense(nb_classes, activation='softmax'))\n",
    "    model.summary()\n",
    "\n",
    "    model.summary()\n",
    "\n",
    "    model.compile(loss='categorical_crossentropy', optimizer=Adam(lr=0.001, beta_1=0.5), metrics=['accuracy'])\n",
    "\n",
    "    tb_cb = keras.callbacks.TensorBoard(log_dir=f_log, histogram_freq=1, write_graph=True)\n",
    "    cp_cb = keras.callbacks.ModelCheckpoint(filepath = os.path.join(f_model,'cnn_model{epoch:02d}-loss{loss:.2f}-acc{acc:.2f}-vloss{val_loss:.2f}-vacc{val_acc:.2f}.hdf5'), monitor='val_loss', verbose=1, save_best_only=True, mode='auto')\n",
    "    cbks = [tb_cb, cp_cb]\n",
    "\n",
    "    history = model.fit(X_train, Y_train, batch_size=batch_size, epochs=nb_epoch, verbose=1, callbacks=cbks, validation_data=(X_test, Y_test))\n",
    "    score = model.evaluate(X_test, Y_test, verbose=0)\n",
    "    print('Test score:', score[0])\n",
    "    print('Test accuracy:', score[1])\n",
    "\n",
    "    print('save the architecture of a model')\n",
    "    json_string = model.to_json()\n",
    "    open(os.path.join(f_model,'cnn_model.json'), 'w').write(json_string)\n",
    "    yaml_string = model.to_yaml()\n",
    "    open(os.path.join(f_model,'cnn_model.yaml'), 'w').write(yaml_string)\n",
    "    print('save weights')\n",
    "    model.save_weights(os.path.join(f_model,'cnn_model_weights.hdf5'))"
   ]
  },
  {
   "cell_type": "code",
   "execution_count": null,
   "metadata": {
    "collapsed": true
   },
   "outputs": [],
   "source": [
    "KTF.set_session(old_session)"
   ]
  },
  {
   "cell_type": "code",
   "execution_count": null,
   "metadata": {
    "collapsed": true
   },
   "outputs": [],
   "source": []
  },
  {
   "cell_type": "code",
   "execution_count": null,
   "metadata": {
    "collapsed": true
   },
   "outputs": [],
   "source": []
  }
 ],
 "metadata": {
  "kernelspec": {
   "display_name": "Python 3",
   "language": "python",
   "name": "python3"
  },
  "language_info": {
   "codemirror_mode": {
    "name": "ipython",
    "version": 3
   },
   "file_extension": ".py",
   "mimetype": "text/x-python",
   "name": "python",
   "nbconvert_exporter": "python",
   "pygments_lexer": "ipython3",
   "version": "3.6.1"
  }
 },
 "nbformat": 4,
 "nbformat_minor": 2
}
