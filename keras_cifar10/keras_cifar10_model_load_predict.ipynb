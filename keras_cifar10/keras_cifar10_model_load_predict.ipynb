{
 "cells": [
  {
   "cell_type": "code",
   "execution_count": 1,
   "metadata": {},
   "outputs": [
    {
     "name": "stderr",
     "output_type": "stream",
     "text": [
      "Using TensorFlow backend.\n"
     ]
    }
   ],
   "source": [
    "from keras.datasets import cifar10\n",
    "from keras.models import load_model\n",
    "from keras.preprocessing import image\n",
    "from keras.applications.imagenet_utils import preprocess_input\n",
    "from keras.utils.np_utils import to_categorical\n",
    "import numpy as np\n",
    "import os\n",
    "import matplotlib.pyplot as plt"
   ]
  },
  {
   "cell_type": "code",
   "execution_count": 2,
   "metadata": {
    "collapsed": true
   },
   "outputs": [],
   "source": [
    "def plot_image(X, label=None):\n",
    "    print('☆テスト画像: %s' % label)\n",
    "    print(X.shape)\n",
    "    plt.imshow(X)\n",
    "    plt.show()\n",
    "    plt.clf()"
   ]
  },
  {
   "cell_type": "code",
   "execution_count": 3,
   "metadata": {},
   "outputs": [
    {
     "name": "stdout",
     "output_type": "stream",
     "text": [
      "50000 training samples\n",
      "10000 test samples\n",
      "(50000, 32, 32, 3)\n",
      "results/my_model.h5\n",
      "[3 8 8 ..., 5 4 7]\n"
     ]
    }
   ],
   "source": [
    "## import data\n",
    "(X_train, y_train), (X_test, y_test) = cifar10.load_data()\n",
    "\n",
    "X_train = X_train.reshape([-1, 32, 32, 3])\n",
    "X_test = X_test.reshape([-1, 32, 32, 3])\n",
    "print('%i training samples' % X_train.shape[0])\n",
    "print('%i test samples' % X_test.shape[0])\n",
    "print(X_train.shape)\n",
    "# convert integer RGB values (0-255) to float values (0-1)\n",
    "X_train = X_train.astype('float32') / 255\n",
    "X_test = X_test.astype('float32') / 255\n",
    "## CIFAR-10公式ラベル\n",
    "cifar10_labels = np.array([\n",
    "        'airplane',\n",
    "        'automobile',\n",
    "        'bird',\n",
    "        'cat',\n",
    "        'deer',\n",
    "        'dog',\n",
    "        'frog',\n",
    "        'horse',\n",
    "        'ship',\n",
    "        'truck'\n",
    "])\n",
    "# load model\n",
    "print(os.path.join('results','my_model.h5')) #os.path.joinは賢いpath指定\n",
    "model = load_model(os.path.join('results','my_model.h5') )# 保存したモデルから読み込む\n",
    "# output\n",
    "preds = model.predict(X_test) # modelは学習させたもの\n",
    "category = np.argmax(preds, axis=1)\n",
    "print(category)"
   ]
  },
  {
   "cell_type": "code",
   "execution_count": 4,
   "metadata": {},
   "outputs": [
    {
     "name": "stdout",
     "output_type": "stream",
     "text": [
      "☆テスト画像: cat\n",
      "[[[ 0.61960787  0.43921569  0.19215687]\n",
      "  [ 0.62352943  0.43529412  0.18431373]\n",
      "  [ 0.64705884  0.45490196  0.2       ]\n",
      "  ..., \n",
      "  [ 0.53725493  0.37254903  0.14117648]\n",
      "  [ 0.49411765  0.35686275  0.14117648]\n",
      "  [ 0.45490196  0.33333334  0.12941177]]\n",
      "\n",
      " [[ 0.59607846  0.43921569  0.2       ]\n",
      "  [ 0.59215689  0.43137255  0.15686275]\n",
      "  [ 0.62352943  0.44705883  0.17647059]\n",
      "  ..., \n",
      "  [ 0.53333336  0.37254903  0.12156863]\n",
      "  [ 0.49019608  0.35686275  0.1254902 ]\n",
      "  [ 0.46666667  0.34509805  0.13333334]]\n",
      "\n",
      " [[ 0.59215689  0.43137255  0.18431373]\n",
      "  [ 0.59215689  0.42745098  0.12941177]\n",
      "  [ 0.61960787  0.43529412  0.14117648]\n",
      "  ..., \n",
      "  [ 0.54509807  0.38431373  0.13333334]\n",
      "  [ 0.50980395  0.37254903  0.13333334]\n",
      "  [ 0.47058824  0.34901962  0.12941177]]\n",
      "\n",
      " ..., \n",
      " [[ 0.26666668  0.48627451  0.69411767]\n",
      "  [ 0.16470589  0.39215687  0.58039218]\n",
      "  [ 0.12156863  0.34509805  0.53725493]\n",
      "  ..., \n",
      "  [ 0.14901961  0.38039216  0.57254905]\n",
      "  [ 0.05098039  0.25098041  0.42352942]\n",
      "  [ 0.15686275  0.33333334  0.49803922]]\n",
      "\n",
      " [[ 0.23921569  0.45490196  0.65882355]\n",
      "  [ 0.19215687  0.40000001  0.58039218]\n",
      "  [ 0.13725491  0.33333334  0.51764709]\n",
      "  ..., \n",
      "  [ 0.10196079  0.32156864  0.50980395]\n",
      "  [ 0.11372549  0.32156864  0.49411765]\n",
      "  [ 0.07843138  0.25098041  0.41960785]]\n",
      "\n",
      " [[ 0.21176471  0.41960785  0.627451  ]\n",
      "  [ 0.21960784  0.41176471  0.58431375]\n",
      "  [ 0.17647059  0.34901962  0.51764709]\n",
      "  ..., \n",
      "  [ 0.09411765  0.3019608   0.48627451]\n",
      "  [ 0.13333334  0.32941177  0.50588238]\n",
      "  [ 0.08235294  0.26274511  0.43137255]]]\n"
     ]
    },
    {
     "data": {
      "image/png": "[encoded data removed]",
      "text/plain": [
       "<matplotlib.figure.Figure at 0x124f8ca20>"
      ]
     },
     "metadata": {},
     "output_type": "display_data"
    },
    {
     "name": "stdout",
     "output_type": "stream",
     "text": [
      "0 - 分類されたものはcatです。精度は81.31624460220337%です。\n",
      "\n",
      "################################################\n",
      "☆テスト画像: ship\n",
      "[[[ 0.92156863  0.92156863  0.92156863]\n",
      "  [ 0.90588236  0.90588236  0.90588236]\n",
      "  [ 0.90980393  0.90980393  0.90980393]\n",
      "  ..., \n",
      "  [ 0.9137255   0.9137255   0.9137255 ]\n",
      "  [ 0.9137255   0.9137255   0.9137255 ]\n",
      "  [ 0.90980393  0.90980393  0.90980393]]\n",
      "\n",
      " [[ 0.93333334  0.93333334  0.93333334]\n",
      "  [ 0.92156863  0.92156863  0.92156863]\n",
      "  [ 0.92156863  0.92156863  0.92156863]\n",
      "  ..., \n",
      "  [ 0.9254902   0.9254902   0.9254902 ]\n",
      "  [ 0.9254902   0.9254902   0.9254902 ]\n",
      "  [ 0.92156863  0.92156863  0.92156863]]\n",
      "\n",
      " [[ 0.92941177  0.92941177  0.92941177]\n",
      "  [ 0.91764706  0.91764706  0.91764706]\n",
      "  [ 0.91764706  0.91764706  0.91764706]\n",
      "  ..., \n",
      "  [ 0.92156863  0.92156863  0.92156863]\n",
      "  [ 0.92156863  0.92156863  0.92156863]\n",
      "  [ 0.91764706  0.91764706  0.91764706]]\n",
      "\n",
      " ..., \n",
      " [[ 0.34117648  0.3882353   0.34901962]\n",
      "  [ 0.16862746  0.2         0.14509805]\n",
      "  [ 0.07450981  0.09019608  0.04313726]\n",
      "  ..., \n",
      "  [ 0.66274512  0.72156864  0.7019608 ]\n",
      "  [ 0.71372551  0.77254903  0.75686276]\n",
      "  [ 0.73725492  0.79215688  0.78823531]]\n",
      "\n",
      " [[ 0.32156864  0.3764706   0.32156864]\n",
      "  [ 0.18039216  0.22352941  0.14117648]\n",
      "  [ 0.14117648  0.17254902  0.08627451]\n",
      "  ..., \n",
      "  [ 0.68235296  0.74117649  0.71764708]\n",
      "  [ 0.72549021  0.78431374  0.76862746]\n",
      "  [ 0.73333335  0.79215688  0.78431374]]\n",
      "\n",
      " [[ 0.33333334  0.39607844  0.32549021]\n",
      "  [ 0.24313726  0.29411766  0.1882353 ]\n",
      "  [ 0.22745098  0.26274511  0.14901961]\n",
      "  ..., \n",
      "  [ 0.65882355  0.71764708  0.69803923]\n",
      "  [ 0.70588237  0.7647059   0.74901962]\n",
      "  [ 0.72941178  0.78431374  0.78039217]]]\n"
     ]
    },
    {
     "data": {
      "image/png": "[encoded data removed]",
      "text/plain": [
       "<matplotlib.figure.Figure at 0x12df60a90>"
      ]
     },
     "metadata": {},
     "output_type": "display_data"
    },
    {
     "name": "stdout",
     "output_type": "stream",
     "text": [
      "1 - 分類されたものはshipです。精度は99.9188482761383%です。\n",
      "\n",
      "################################################\n",
      "☆テスト画像: ship\n",
      "[[[ 0.61960787  0.74509805  0.87058824]\n",
      "  [ 0.61960787  0.73333335  0.85490197]\n",
      "  [ 0.54509807  0.65098041  0.76078433]\n",
      "  ..., \n",
      "  [ 0.89411765  0.90588236  0.91764706]\n",
      "  [ 0.92941177  0.93725491  0.95294118]\n",
      "  [ 0.93333334  0.94509804  0.96470588]]\n",
      "\n",
      " [[ 0.66666669  0.78431374  0.89803922]\n",
      "  [ 0.67450982  0.78039217  0.88627452]\n",
      "  [ 0.59215689  0.6901961   0.78823531]\n",
      "  ..., \n",
      "  [ 0.90980393  0.90980393  0.9254902 ]\n",
      "  [ 0.96470588  0.96470588  0.98039216]\n",
      "  [ 0.96470588  0.96862745  0.98431373]]\n",
      "\n",
      " [[ 0.68235296  0.78823531  0.88235295]\n",
      "  [ 0.6901961   0.78431374  0.87058824]\n",
      "  [ 0.6156863   0.7019608   0.78039217]\n",
      "  ..., \n",
      "  [ 0.90196079  0.89803922  0.90980393]\n",
      "  [ 0.98039216  0.97647059  0.98431373]\n",
      "  [ 0.96078432  0.95686275  0.96862745]]\n",
      "\n",
      " ..., \n",
      " [[ 0.12156863  0.15686275  0.17647059]\n",
      "  [ 0.11764706  0.15294118  0.17254902]\n",
      "  [ 0.10196079  0.13725491  0.15686275]\n",
      "  ..., \n",
      "  [ 0.14509805  0.15686275  0.18039216]\n",
      "  [ 0.03529412  0.05098039  0.05490196]\n",
      "  [ 0.01568628  0.02745098  0.01960784]]\n",
      "\n",
      " [[ 0.09019608  0.13333334  0.15294118]\n",
      "  [ 0.10588235  0.14901961  0.16862746]\n",
      "  [ 0.09803922  0.14117648  0.16078432]\n",
      "  ..., \n",
      "  [ 0.07450981  0.07843138  0.09411765]\n",
      "  [ 0.01568628  0.02352941  0.01176471]\n",
      "  [ 0.01960784  0.02745098  0.01176471]]\n",
      "\n",
      " [[ 0.10980392  0.16078432  0.18431373]\n",
      "  [ 0.11764706  0.16862746  0.19607843]\n",
      "  [ 0.1254902   0.17647059  0.20392157]\n",
      "  ..., \n",
      "  [ 0.01960784  0.02352941  0.03137255]\n",
      "  [ 0.01568628  0.01960784  0.01176471]\n",
      "  [ 0.02745098  0.03137255  0.02745098]]]\n"
     ]
    },
    {
     "data": {
      "image/png": "[encoded data removed]",
      "text/plain": [
       "<matplotlib.figure.Figure at 0x12df44a58>"
      ]
     },
     "metadata": {},
     "output_type": "display_data"
    },
    {
     "name": "stdout",
     "output_type": "stream",
     "text": [
      "2 - 分類されたものはshipです。精度は92.92547106742859%です。\n",
      "\n",
      "################################################\n",
      "☆テスト画像: airplane\n",
      "[[[ 0.60784316  0.61176473  0.58431375]\n",
      "  [ 0.65490198  0.6901961   0.73333335]\n",
      "  [ 0.6901961   0.7019608   0.75686276]\n",
      "  ..., \n",
      "  [ 0.78823531  0.76862746  0.81960785]\n",
      "  [ 0.79215688  0.79215688  0.83137256]\n",
      "  [ 0.75294119  0.71764708  0.67058825]]\n",
      "\n",
      " [[ 0.60000002  0.60784316  0.6156863 ]\n",
      "  [ 0.63921571  0.7019608   0.80000001]\n",
      "  [ 0.67058825  0.72156864  0.84313726]\n",
      "  ..., \n",
      "  [ 0.79215688  0.81568629  0.87058824]\n",
      "  [ 0.79607844  0.84313726  0.89019608]\n",
      "  [ 0.74117649  0.74509805  0.71764708]]\n",
      "\n",
      " [[ 0.60784316  0.60392159  0.60000002]\n",
      "  [ 0.627451    0.69803923  0.78823531]\n",
      "  [ 0.65882355  0.72549021  0.83529413]\n",
      "  ..., \n",
      "  [ 0.80784315  0.81568629  0.84313726]\n",
      "  [ 0.80000001  0.84313726  0.87843138]\n",
      "  [ 0.74117649  0.74901962  0.72156864]]\n",
      "\n",
      " ..., \n",
      " [[ 0.34901962  0.30980393  0.24313726]\n",
      "  [ 0.22352941  0.20784314  0.20392157]\n",
      "  [ 0.23921569  0.23921569  0.23137255]\n",
      "  ..., \n",
      "  [ 0.34901962  0.46666667  0.39607844]\n",
      "  [ 0.23137255  0.30980393  0.24313726]\n",
      "  [ 0.26274511  0.29019609  0.19607843]]\n",
      "\n",
      " [[ 0.34901962  0.32156864  0.24313726]\n",
      "  [ 0.23529412  0.22745098  0.20784314]\n",
      "  [ 0.24705882  0.25882354  0.22745098]\n",
      "  ..., \n",
      "  [ 0.22352941  0.25882354  0.22745098]\n",
      "  [ 0.23921569  0.25098041  0.21176471]\n",
      "  [ 0.29411766  0.27058825  0.2       ]]\n",
      "\n",
      " [[ 0.36078432  0.30588236  0.25098041]\n",
      "  [ 0.23529412  0.20392157  0.2       ]\n",
      "  [ 0.23921569  0.22745098  0.2       ]\n",
      "  ..., \n",
      "  [ 0.23529412  0.24705882  0.19607843]\n",
      "  [ 0.25098041  0.25490198  0.20392157]\n",
      "  [ 0.28627452  0.26666668  0.19607843]]]\n"
     ]
    },
    {
     "data": {
      "image/png": "[encoded data removed]",
      "text/plain": [
       "<matplotlib.figure.Figure at 0x12decc3c8>"
      ]
     },
     "metadata": {},
     "output_type": "display_data"
    },
    {
     "name": "stdout",
     "output_type": "stream",
     "text": [
      "3 - 分類されたものはairplaneです。精度は83.55230689048767%です。\n",
      "\n",
      "################################################\n",
      "☆テスト画像: frog\n",
      "[[[ 0.25490198  0.26666668  0.19607843]\n",
      "  [ 0.27450982  0.31764707  0.25098041]\n",
      "  [ 0.1882353   0.25098041  0.18039216]\n",
      "  ..., \n",
      "  [ 0.2         0.26274511  0.16078432]\n",
      "  [ 0.21176471  0.29803923  0.20784314]\n",
      "  [ 0.26274511  0.34117648  0.25882354]]\n",
      "\n",
      " [[ 0.27058825  0.3137255   0.22745098]\n",
      "  [ 0.30980393  0.40000001  0.31764707]\n",
      "  [ 0.23529412  0.29019609  0.22352941]\n",
      "  ..., \n",
      "  [ 0.21176471  0.25882354  0.17254902]\n",
      "  [ 0.25490198  0.35294119  0.27058825]\n",
      "  [ 0.23921569  0.31764707  0.25882354]]\n",
      "\n",
      " [[ 0.28627452  0.37254903  0.28235295]\n",
      "  [ 0.32941177  0.42745098  0.34117648]\n",
      "  [ 0.28235295  0.34509805  0.27450982]\n",
      "  ..., \n",
      "  [ 0.30588236  0.38431373  0.29411766]\n",
      "  [ 0.28627452  0.38431373  0.3019608 ]\n",
      "  [ 0.1882353   0.23137255  0.2       ]]\n",
      "\n",
      " ..., \n",
      " [[ 0.37254903  0.49803922  0.36078432]\n",
      "  [ 0.35686275  0.48235294  0.33725491]\n",
      "  [ 0.22352941  0.30980393  0.17647059]\n",
      "  ..., \n",
      "  [ 0.56470591  0.67450982  0.42352942]\n",
      "  [ 0.66666669  0.78823531  0.52549022]\n",
      "  [ 0.47843137  0.56078434  0.38431373]]\n",
      "\n",
      " [[ 0.36862746  0.49019608  0.32156864]\n",
      "  [ 0.29411766  0.40784314  0.27843139]\n",
      "  [ 0.1254902   0.20392157  0.09411765]\n",
      "  ..., \n",
      "  [ 0.56078434  0.70980394  0.45490196]\n",
      "  [ 0.60392159  0.73725492  0.48235294]\n",
      "  [ 0.41568628  0.50588238  0.34901962]]\n",
      "\n",
      " [[ 0.30588236  0.40000001  0.25490198]\n",
      "  [ 0.13725491  0.2         0.10588235]\n",
      "  [ 0.09411765  0.15686275  0.06666667]\n",
      "  ..., \n",
      "  [ 0.56078434  0.7019608   0.53333336]\n",
      "  [ 0.60392159  0.72549021  0.57254905]\n",
      "  [ 0.50196081  0.61176473  0.45882353]]]\n"
     ]
    },
    {
     "data": {
      "image/png": "[encoded data removed]",
      "text/plain": [
       "<matplotlib.figure.Figure at 0x12dedd128>"
      ]
     },
     "metadata": {},
     "output_type": "display_data"
    },
    {
     "name": "stdout",
     "output_type": "stream",
     "text": [
      "4 - 分類されたものはfrogです。精度は83.98686647415161%です。\n",
      "\n",
      "################################################\n"
     ]
    }
   ],
   "source": [
    "for i in range(5):\n",
    "    classed = category[i]\n",
    "    labels = cifar10_labels[classed]\n",
    "    plot_image(X_test[i], labels)\n",
    "    print('{0} - 分類されたものは{1}です。精度は{2}%です。\\n' .format(i, labels, preds[i][classed]*100))\n",
    "    print(\"################################################\")"
   ]
  },
  {
   "cell_type": "code",
   "execution_count": 5,
   "metadata": {},
   "outputs": [
    {
     "name": "stdout",
     "output_type": "stream",
     "text": [
      "(32, 32, 3)\n"
     ]
    }
   ],
   "source": [
    "print(X_test[0].shape)"
   ]
  },
  {
   "cell_type": "code",
   "execution_count": null,
   "metadata": {
    "collapsed": true
   },
   "outputs": [],
   "source": []
  }
 ],
 "metadata": {
  "kernelspec": {
   "display_name": "Python 3",
   "language": "python",
   "name": "python3"
  },
  "language_info": {
   "codemirror_mode": {
    "name": "ipython",
    "version": 3
   },
   "file_extension": ".py",
   "mimetype": "text/x-python",
   "name": "python",
   "nbconvert_exporter": "python",
   "pygments_lexer": "ipython3",
   "version": "3.6.1"
  }
 },
 "nbformat": 4,
 "nbformat_minor": 2
}
